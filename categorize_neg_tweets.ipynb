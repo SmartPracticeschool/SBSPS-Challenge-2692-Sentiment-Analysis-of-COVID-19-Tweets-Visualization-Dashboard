{
 "cells": [
  {
   "cell_type": "code",
   "execution_count": 21,
   "metadata": {},
   "outputs": [],
   "source": [
    "import pandas as pd"
   ]
  },
  {
   "cell_type": "code",
   "execution_count": 22,
   "metadata": {},
   "outputs": [],
   "source": [
    "tweets = pd.read_csv(r\"result/test1.csv\")"
   ]
  },
  {
   "cell_type": "code",
   "execution_count": 4,
   "metadata": {},
   "outputs": [
    {
     "data": {
      "text/html": [
       "<div>\n",
       "<style scoped>\n",
       "    .dataframe tbody tr th:only-of-type {\n",
       "        vertical-align: middle;\n",
       "    }\n",
       "\n",
       "    .dataframe tbody tr th {\n",
       "        vertical-align: top;\n",
       "    }\n",
       "\n",
       "    .dataframe thead th {\n",
       "        text-align: right;\n",
       "    }\n",
       "</style>\n",
       "<table border=\"1\" class=\"dataframe\">\n",
       "  <thead>\n",
       "    <tr style=\"text-align: right;\">\n",
       "      <th></th>\n",
       "      <th>text</th>\n",
       "      <th>date</th>\n",
       "      <th>time</th>\n",
       "      <th>text_ed</th>\n",
       "      <th>neg</th>\n",
       "      <th>neu</th>\n",
       "      <th>pos</th>\n",
       "      <th>compound</th>\n",
       "      <th>value</th>\n",
       "    </tr>\n",
       "  </thead>\n",
       "  <tbody>\n",
       "    <tr>\n",
       "      <th>0</th>\n",
       "      <td>\"#Covid19: #SocialDistancing the Indian way\"  ...</td>\n",
       "      <td>2020-03-29</td>\n",
       "      <td>00:04:06</td>\n",
       "      <td>#covid #socialdistanc indian way</td>\n",
       "      <td>0.000</td>\n",
       "      <td>1.000</td>\n",
       "      <td>0.000</td>\n",
       "      <td>0.0000</td>\n",
       "      <td>neutral</td>\n",
       "    </tr>\n",
       "    <tr>\n",
       "      <th>1</th>\n",
       "      <td>Possible case of human to animal transmission ...</td>\n",
       "      <td>2020-03-29</td>\n",
       "      <td>00:04:55</td>\n",
       "      <td>possibl case human anim transmiss way around w...</td>\n",
       "      <td>0.113</td>\n",
       "      <td>0.722</td>\n",
       "      <td>0.165</td>\n",
       "      <td>0.1280</td>\n",
       "      <td>positive</td>\n",
       "    </tr>\n",
       "    <tr>\n",
       "      <th>2</th>\n",
       "      <td>#Coronavirus: #US eclipses 120,000 confirmed c...</td>\n",
       "      <td>2020-03-29</td>\n",
       "      <td>00:07:20</td>\n",
       "      <td>#u eclips confirm case death usa bnodesk jyoti...</td>\n",
       "      <td>0.231</td>\n",
       "      <td>0.769</td>\n",
       "      <td>0.000</td>\n",
       "      <td>-0.5994</td>\n",
       "      <td>negative</td>\n",
       "    </tr>\n",
       "    <tr>\n",
       "      <th>3</th>\n",
       "      <td>The bitter truth 😔\\n#covid_19 #covid19india #l...</td>\n",
       "      <td>2020-03-29</td>\n",
       "      <td>00:09:14</td>\n",
       "      <td>bitter truth #covid #covid india #lockdown india</td>\n",
       "      <td>0.277</td>\n",
       "      <td>0.495</td>\n",
       "      <td>0.228</td>\n",
       "      <td>-0.1280</td>\n",
       "      <td>negative</td>\n",
       "    </tr>\n",
       "    <tr>\n",
       "      <th>4</th>\n",
       "      <td>#CoronavirusOutbreak  All Churches shd realize...</td>\n",
       "      <td>2020-03-29</td>\n",
       "      <td>00:13:20</td>\n",
       "      <td>church shd realiz mass form worship r import m...</td>\n",
       "      <td>0.000</td>\n",
       "      <td>0.755</td>\n",
       "      <td>0.245</td>\n",
       "      <td>0.7003</td>\n",
       "      <td>positive</td>\n",
       "    </tr>\n",
       "  </tbody>\n",
       "</table>\n",
       "</div>"
      ],
      "text/plain": [
       "                                                text        date      time  \\\n",
       "0  \"#Covid19: #SocialDistancing the Indian way\"  ...  2020-03-29  00:04:06   \n",
       "1  Possible case of human to animal transmission ...  2020-03-29  00:04:55   \n",
       "2  #Coronavirus: #US eclipses 120,000 confirmed c...  2020-03-29  00:07:20   \n",
       "3  The bitter truth 😔\\n#covid_19 #covid19india #l...  2020-03-29  00:09:14   \n",
       "4  #CoronavirusOutbreak  All Churches shd realize...  2020-03-29  00:13:20   \n",
       "\n",
       "                                             text_ed    neg    neu    pos  \\\n",
       "0                   #covid #socialdistanc indian way  0.000  1.000  0.000   \n",
       "1  possibl case human anim transmiss way around w...  0.113  0.722  0.165   \n",
       "2  #u eclips confirm case death usa bnodesk jyoti...  0.231  0.769  0.000   \n",
       "3   bitter truth #covid #covid india #lockdown india  0.277  0.495  0.228   \n",
       "4  church shd realiz mass form worship r import m...  0.000  0.755  0.245   \n",
       "\n",
       "   compound     value  \n",
       "0    0.0000   neutral  \n",
       "1    0.1280  positive  \n",
       "2   -0.5994  negative  \n",
       "3   -0.1280  negative  \n",
       "4    0.7003  positive  "
      ]
     },
     "execution_count": 4,
     "metadata": {},
     "output_type": "execute_result"
    }
   ],
   "source": [
    "tweets.head()"
   ]
  },
  {
   "cell_type": "code",
   "execution_count": 23,
   "metadata": {},
   "outputs": [],
   "source": [
    "neg_tweets = tweets[tweets['value'] == 'negative'][['text']]"
   ]
  },
  {
   "cell_type": "code",
   "execution_count": 11,
   "metadata": {},
   "outputs": [],
   "source": [
    "#neg_tweets.to_csv(r\"result/neg_tweets.csv\")"
   ]
  },
  {
   "cell_type": "code",
   "execution_count": 68,
   "metadata": {},
   "outputs": [
    {
     "data": {
      "text/plain": [
       "{'food': 0, 'shelter': 0, 'income': 0, 'travel': 0, 'health': 0, 'PPE': 0}"
      ]
     },
     "execution_count": 68,
     "metadata": {},
     "output_type": "execute_result"
    }
   ],
   "source": [
    "causes = {'food':['food', 'hunger', 'feeding'],\n",
    "          'shelter':['shelter', 'homeless', '#shelter', '#homeless'],\n",
    "          'income':['income', 'bills', '#income', '#bills'],\n",
    "          'travel':['travel', 'immigrants', 'immigrant', '#travel', '#immigrants', '#immigrant'],\n",
    "          'health':['health', '#health'],\n",
    "          'PPE':['PPE', 'ppe', '#PPE', '#ppe']\n",
    "         }\n",
    "main_causes = list(causes.keys())\n",
    "causes_count = dict.fromkeys(main_causes, 0 )"
   ]
  },
  {
   "cell_type": "code",
   "execution_count": 69,
   "metadata": {},
   "outputs": [],
   "source": [
    "for key,value in neg_tweets.iterrows():\n",
    "    tweet = value['text'].split()\n",
    "    #print(tweet)\n",
    "    for m_cause in main_causes:\n",
    "        for x in causes[m_cause]:\n",
    "            if x in tweet:\n",
    "                causes_count[m_cause] += 1\n",
    "                continue"
   ]
  },
  {
   "cell_type": "code",
   "execution_count": 70,
   "metadata": {},
   "outputs": [
    {
     "data": {
      "text/plain": [
       "{'food': 333,\n",
       " 'shelter': 51,\n",
       " 'income': 27,\n",
       " 'travel': 193,\n",
       " 'health': 476,\n",
       " 'PPE': 76}"
      ]
     },
     "execution_count": 70,
     "metadata": {},
     "output_type": "execute_result"
    }
   ],
   "source": [
    "causes_count"
   ]
  },
  {
   "cell_type": "code",
   "execution_count": null,
   "metadata": {},
   "outputs": [],
   "source": []
  }
 ],
 "metadata": {
  "kernelspec": {
   "display_name": "Python 3",
   "language": "python",
   "name": "python3"
  },
  "language_info": {
   "codemirror_mode": {
    "name": "ipython",
    "version": 3
   },
   "file_extension": ".py",
   "mimetype": "text/x-python",
   "name": "python",
   "nbconvert_exporter": "python",
   "pygments_lexer": "ipython3",
   "version": "3.8.2"
  }
 },
 "nbformat": 4,
 "nbformat_minor": 4
}
