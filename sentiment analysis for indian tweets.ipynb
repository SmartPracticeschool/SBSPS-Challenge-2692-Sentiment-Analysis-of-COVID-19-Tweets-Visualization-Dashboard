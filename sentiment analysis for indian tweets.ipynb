{
 "cells": [
  {
   "cell_type": "code",
   "execution_count": 152,
   "metadata": {},
   "outputs": [],
   "source": [
    "import io\n",
    "import random\n",
    "import string\n",
    "import warnings\n",
    "import pandas as pd\n",
    "import numpy as np\n",
    "from sklearn.feature_extraction.text import TfidfVectorizer\n",
    "from sklearn.metrics.pairwise import cosine_similarity\n",
    "import warnings\n",
    "warnings.filterwarnings('ignore')\n",
    "\n",
    "\n",
    "import nltk\n",
    "from nltk.tokenize import sent_tokenize\n",
    "from nltk.corpus import words\n",
    "from nltk.corpus import stopwords\n",
    "from nltk.tokenize import word_tokenize\n",
    "from nltk.stem import WordNetLemmatizer\n",
    "from nltk.stem import PorterStemmer\n",
    "from nltk.sentiment.vader import SentimentIntensityAnalyzer\n",
    "from nltk.sentiment.util import *\n",
    "\n",
    "\n",
    "# sklearn imports\n",
    "from sklearn.model_selection import train_test_split\n",
    "from sklearn.feature_extraction.text import TfidfVectorizer\n",
    "from sklearn.naive_bayes import MultinomialNB\n",
    "from sklearn import metrics\n",
    "\n",
    "\n",
    "# python imports\n",
    "import re\n",
    "import json\n",
    "import os\n",
    "from collections import Counter\n",
    "import datetime as dt\n",
    "\n",
    "\n",
    "# Visualization\n",
    "from matplotlib import pyplot as plt\n",
    "from matplotlib import ticker\n",
    "import seaborn as sns\n",
    "from sklearn import feature_extraction, linear_model, model_selection, preprocessing\n",
    "# from wordcloud import WordCloud\n",
    "from tqdm import tqdm_notebook\n",
    "\n",
    "\n",
    "# Saving models\n",
    "import pickle"
   ]
  },
  {
   "cell_type": "code",
   "execution_count": 153,
   "metadata": {},
   "outputs": [],
   "source": [
    "def readData(data_dir):\n",
    "    tweets = []\n",
    "    for file in sorted(os.listdir(data_dir)):\n",
    "        tweets.append(pd.read_csv(data_dir + '/' + file, lineterminator = '\\n'))\n",
    "    df = pd.concat(tweets)\n",
    "    return df"
   ]
  },
  {
   "cell_type": "code",
   "execution_count": 154,
   "metadata": {},
   "outputs": [],
   "source": [
    "def getCountryData(df,country_code):\n",
    "    return df[df['country_code']=='IN']"
   ]
  },
  {
   "cell_type": "markdown",
   "metadata": {},
   "source": [
    "### Adding date column in indian dataset"
   ]
  },
  {
   "cell_type": "code",
   "execution_count": 155,
   "metadata": {},
   "outputs": [],
   "source": [
    "def addDate(df):\n",
    "    date=[]\n",
    "    for key,value in df.iterrows():\n",
    "        date.append(value['created_at'][:10])\n",
    "    df['date']=date\n",
    "    return df"
   ]
  },
  {
   "cell_type": "code",
   "execution_count": 156,
   "metadata": {},
   "outputs": [],
   "source": [
    "def processTweetText(df):\n",
    "    '''\n",
    "    Step 1- remove links\n",
    "    Step 2- lower case\n",
    "    Step 3- remove punctuation\n",
    "    Step 4- remove stop words\n",
    "    '''\n",
    "    stop_words = set(stopwords.words('english'))\n",
    "    stop_words.update(['#coronaupdate','#corona','#stayhomestaysafe','#stayhomeandstaysafe','#stayathomeandstaysafe','#stayhomesavelives','#stayhome','#coronavirus', '#coronavirusoutbreak', '#coronavirusPandemic', '#covid19', '#covid_19', '#epitwitter', '#ihavecorona', 'amp', 'coronavirus', 'covid19'])\n",
    "    \n",
    "    df['text'] = df['text'].apply(lambda x: re.sub(r\"https\\S+\",\"\",str(x)))\n",
    "    df['text'] = df['text'].apply(lambda x: x.lower())\n",
    "    df['text'] = df['text'].apply(lambda x: x.translate(str.maketrans(\"\",\"\",string.punctuation)))\n",
    "    df['text'] = df['text'].apply(lambda x: ' '.join([word for word in x.split() if word not in stop_words]))\n",
    "    \n",
    "    return df"
   ]
  },
  {
   "cell_type": "markdown",
   "metadata": {},
   "source": [
    "### Sentiment analysis of processed tweets"
   ]
  },
  {
   "cell_type": "code",
   "execution_count": 157,
   "metadata": {},
   "outputs": [],
   "source": [
    "def sentimentAnalysis(df):\n",
    "    #4 new columns added to dataframe-> neg,neu,pos,compound\n",
    "    sid = SentimentIntensityAnalyzer()\n",
    "    sentiment_scores = df['text'].apply(lambda x: sid.polarity_scores(x))\n",
    "    sent_scores_df = pd.DataFrame(list(sentiment_scores))\n",
    "    df_new = pd.concat([df.reset_index(drop=True), sent_scores_df.reset_index(drop=True)], axis=1)\n",
    "    df_new['value']=df_new['compound'].apply(lambda x : 'neutral' if (x>-0.1 and x<0.1) else ('positive' if x>=0.1 else 'negative'))\n",
    "    return df_new"
   ]
  },
  {
   "cell_type": "code",
   "execution_count": 158,
   "metadata": {},
   "outputs": [],
   "source": [
    "def prepareResult(df):\n",
    "    result={}\n",
    "    for key,value in df.iterrows():\n",
    "        if value['date'] in result.keys():\n",
    "            result[value['date']][value['value']]+=1\n",
    "            result[value['date']]['total']+=1\n",
    "        else:\n",
    "            result[value['date']]={'negative':0,'neutral':0,'positive':0,'total':0}\n",
    "    percentage={}\n",
    "    for date in result.keys():\n",
    "        percentage[date]={'negative':0,'neutral':0,'positive':0}\n",
    "        percentage[date]['negative']= result[date]['negative']/result[date]['total']\n",
    "        percentage[date]['neutral']= result[date]['neutral']/result[date]['total']\n",
    "        percentage[date]['positive']= result[date]['positive']/result[date]['total']\n",
    "    return [result,percentage]"
   ]
  },
  {
   "cell_type": "markdown",
   "metadata": {},
   "source": [
    "### Plotting the graph"
   ]
  },
  {
   "cell_type": "code",
   "execution_count": 159,
   "metadata": {},
   "outputs": [],
   "source": [
    "def plotGraph(percentage):\n",
    "    x=[]\n",
    "    pos=[]\n",
    "    neg=[]\n",
    "    neu=[]\n",
    "    for date in percentage.keys():\n",
    "        x.append(date)\n",
    "        pos.append(percentage[date]['positive'])\n",
    "        neg.append(percentage[date]['negative'])\n",
    "        neu.append(percentage[date]['neutral'])\n",
    "\n",
    "    plt.plot(x,pos, label='positive',color='green')\n",
    "    plt.plot(x,neg, label='negative',color='red')\n",
    "    plt.plot(x,neu, label='neutral',color='blue')\n",
    "    plt.xlabel('Date')\n",
    "    plt.ylabel('percentage')\n",
    "    plt.title(\"Sentiment Analysis of Tweets in India\")\n",
    "    plt.legend()\n",
    "    plt.show()"
   ]
  },
  {
   "cell_type": "code",
   "execution_count": 161,
   "metadata": {},
   "outputs": [],
   "source": [
    "def driverFunction():\n",
    "    dataset =readData(r'D:\\Kartik_PersonalData\\IBM_Hackathon\\data')\n",
    "    indian_dataset = getCountryData(dataset,'IN')\n",
    "    indian_dataset = addDate(indian_dataset)\n",
    "    indian_tweets = indian_dataset[['text','date']]\n",
    "    indian_tweets_processed = processTweetText(indian_tweets)\n",
    "    indian_tweets_sentiments = sentimentAnalysis(indian_tweets_processed)\n",
    "    results,percentage = prepareResult(indian_tweets_sentiments)\n",
    "    plotGraph(percentage)"
   ]
  },
  {
   "cell_type": "code",
   "execution_count": 163,
   "metadata": {},
   "outputs": [
    {
     "data": {
      "image/png": "[encoded data removed]",
      "text/plain": [
       "<Figure size 432x288 with 1 Axes>"
      ]
     },
     "metadata": {
      "needs_background": "light"
     },
     "output_type": "display_data"
    },
    {
     "name": "stdout",
     "output_type": "stream",
     "text": [
      "128.46007776260376\n"
     ]
    }
   ],
   "source": [
    "import time\n",
    "start=time.time()\n",
    "driverFunction()\n",
    "end=time.time()\n",
    "print(end-start)"
   ]
  },
  {
   "cell_type": "code",
   "execution_count": null,
   "metadata": {},
   "outputs": [],
   "source": []
  }
 ],
 "metadata": {
  "kernelspec": {
   "display_name": "ibmhack",
   "language": "python",
   "name": "ibmhack"
  },
  "language_info": {
   "codemirror_mode": {
    "name": "ipython",
    "version": 3
   },
   "file_extension": ".py",
   "mimetype": "text/x-python",
   "name": "python",
   "nbconvert_exporter": "python",
   "pygments_lexer": "ipython3",
   "version": "3.8.3"
  }
 },
 "nbformat": 4,
 "nbformat_minor": 4
}
